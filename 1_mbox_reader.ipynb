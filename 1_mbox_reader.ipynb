{
 "cells": [
  {
   "cell_type": "markdown",
   "metadata": {},
   "source": [
    "# 1 Mbox reader\n",
    "\n",
    "Lecture d'un fichier mbox (mailbox) et export d’une sélection de données en csv (comma separated values).\n",
    "\n",
    "On s'intéresse aux expéditeurs, destinataires, sujets des e-mails et heures d'envoi.\n",
    "\n",
    "Le but: une analyse rapide et subjective pour mieux comprendre le sentiment d'être écrasé par des e-mails non pertinents.\n",
    "\n",
    "### Hypothèses:\n",
    "* Groupes de distribution trop larges\n",
    "* Mis en copie trop fréquemment\n",
    "* Communiqués diffusés trop largement (au-delà des pays / régions linguistiques)\n",
    "\n",
    "### Marche à suivre\n",
    "#### Ce notebook\n",
    "1. extraire expéditeurs, destinataires, sujets et heures d'envoi\n",
    "2. sélectionner une période de 31 jours\n",
    "\n",
    "#### Notebook «2 email rater»\n",
    "1. départager les e-mails: inbox, sent, spam, etc.\n",
    "2. résultats en chiffres\n",
    "3. graphiques par heure"
   ]
  },
  {
   "cell_type": "code",
   "execution_count": 52,
   "metadata": {
    "collapsed": true
   },
   "outputs": [],
   "source": [
    "import mailbox\n",
    "from email.header import Header, decode_header, make_header\n",
    "import pandas as pd"
   ]
  },
  {
   "cell_type": "code",
   "execution_count": 53,
   "metadata": {},
   "outputs": [
    {
     "name": "stdout",
     "output_type": "stream",
     "text": [
      "CPU times: user 202 µs, sys: 158 µs, total: 360 µs\n",
      "Wall time: 282 µs\n"
     ]
    }
   ],
   "source": [
    "%%time\n",
    "mbox = mailbox.mbox('data/gmail.mbox')"
   ]
  },
  {
   "cell_type": "code",
   "execution_count": 54,
   "metadata": {
    "collapsed": true
   },
   "outputs": [],
   "source": [
    "# Pour décoder les champs de chaque e-mail\n",
    "def decode(value):\n",
    "    if not isinstance(value, str):\n",
    "        return value\n",
    "    return str(make_header(decode_header(value))).replace('\\n', '')"
   ]
  },
  {
   "cell_type": "code",
   "execution_count": 55,
   "metadata": {},
   "outputs": [
    {
     "name": "stdout",
     "output_type": "stream",
     "text": [
      ".....................................................................................................................................................................................................................................................CPU times: user 3min 46s, sys: 25.7 s, total: 4min 12s\n",
      "Wall time: 4min 16s\n"
     ]
    }
   ],
   "source": [
    "%%time\n",
    "i = 0\n",
    "message_list = []\n",
    "for message in mbox:\n",
    "    #print(message['From'])\n",
    "    message_list.append({\n",
    "        'From': decode(message['From']),\n",
    "        'Subject': decode(message['Subject']),\n",
    "        'To': decode(message['To']),\n",
    "        'Cc': decode(message['Cc']),\n",
    "        'Date': message['Date'],\n",
    "        'Label': decode(message['X-Gmail-Labels']),\n",
    "        'Spam': message['X-SPAM-FLAG']\n",
    "    })\n",
    "    \n",
    "    # Ecrit un point chaque 100 e-mail. Pour voir que ça avance\n",
    "    i += 1\n",
    "    if i > 99:\n",
    "        print('.', end='')\n",
    "        i = 0"
   ]
  },
  {
   "cell_type": "code",
   "execution_count": 56,
   "metadata": {},
   "outputs": [
    {
     "data": {
      "text/plain": [
       "(24550, 7)"
      ]
     },
     "execution_count": 56,
     "metadata": {},
     "output_type": "execute_result"
    }
   ],
   "source": [
    "# On crée un tableau des données à retenir: expéditeurs, destinataires, sujets des e-mails, étiquettes, heures d'envoi\n",
    "df = pd.DataFrame(message_list)\n",
    "df.shape"
   ]
  },
  {
   "cell_type": "code",
   "execution_count": 57,
   "metadata": {},
   "outputs": [],
   "source": [
    "# On regarde les 5 premières lignes (mis en commentaire pour masquer les adresses des expéditeurs)\n",
    "\n",
    "# df.head()"
   ]
  },
  {
   "cell_type": "code",
   "execution_count": 58,
   "metadata": {
    "collapsed": true
   },
   "outputs": [],
   "source": [
    "df['To'] = df['To'].apply(lambda x: str(x))"
   ]
  },
  {
   "cell_type": "code",
   "execution_count": 59,
   "metadata": {},
   "outputs": [
    {
     "data": {
      "text/plain": [
       "273"
      ]
     },
     "execution_count": 59,
     "metadata": {},
     "output_type": "execute_result"
    }
   ],
   "source": [
    "# Nombre d'e-mails sans objet\n",
    "len(df[df['Subject'].isnull()])"
   ]
  },
  {
   "cell_type": "code",
   "execution_count": 60,
   "metadata": {
    "collapsed": true
   },
   "outputs": [],
   "source": [
    "# On transforme les champs vides en texte pour permettre\n",
    "# la recherche textuelle avec str.contains() (prochain notebook)\n",
    "df.fillna('', inplace=True)"
   ]
  },
  {
   "cell_type": "code",
   "execution_count": 61,
   "metadata": {},
   "outputs": [
    {
     "data": {
      "text/html": [
       "<div>\n",
       "<style scoped>\n",
       "    .dataframe tbody tr th:only-of-type {\n",
       "        vertical-align: middle;\n",
       "    }\n",
       "\n",
       "    .dataframe tbody tr th {\n",
       "        vertical-align: top;\n",
       "    }\n",
       "\n",
       "    .dataframe thead th {\n",
       "        text-align: right;\n",
       "    }\n",
       "</style>\n",
       "<table border=\"1\" class=\"dataframe\">\n",
       "  <thead>\n",
       "    <tr style=\"text-align: right;\">\n",
       "      <th></th>\n",
       "      <th>Cc</th>\n",
       "      <th>Date</th>\n",
       "      <th>From</th>\n",
       "      <th>Label</th>\n",
       "      <th>Spam</th>\n",
       "      <th>Subject</th>\n",
       "      <th>To</th>\n",
       "    </tr>\n",
       "  </thead>\n",
       "  <tbody>\n",
       "  </tbody>\n",
       "</table>\n",
       "</div>"
      ],
      "text/plain": [
       "Empty DataFrame\n",
       "Columns: [Cc, Date, From, Label, Spam, Subject, To]\n",
       "Index: []"
      ]
     },
     "execution_count": 61,
     "metadata": {},
     "output_type": "execute_result"
    }
   ],
   "source": [
    "# E-mails sans date?\n",
    "df[df.Date.isnull()]"
   ]
  },
  {
   "cell_type": "code",
   "execution_count": 62,
   "metadata": {},
   "outputs": [
    {
     "data": {
      "text/html": [
       "<div>\n",
       "<style scoped>\n",
       "    .dataframe tbody tr th:only-of-type {\n",
       "        vertical-align: middle;\n",
       "    }\n",
       "\n",
       "    .dataframe tbody tr th {\n",
       "        vertical-align: top;\n",
       "    }\n",
       "\n",
       "    .dataframe thead th {\n",
       "        text-align: right;\n",
       "    }\n",
       "</style>\n",
       "<table border=\"1\" class=\"dataframe\">\n",
       "  <thead>\n",
       "    <tr style=\"text-align: right;\">\n",
       "      <th></th>\n",
       "      <th>Cc</th>\n",
       "      <th>Date</th>\n",
       "      <th>From</th>\n",
       "      <th>Label</th>\n",
       "      <th>Spam</th>\n",
       "      <th>Subject</th>\n",
       "      <th>To</th>\n",
       "    </tr>\n",
       "  </thead>\n",
       "  <tbody>\n",
       "    <tr>\n",
       "      <th>901</th>\n",
       "      <td></td>\n",
       "      <td></td>\n",
       "      <td>\"Ronga, Paul\" &lt;paul.ronga@tdg.ch&gt;</td>\n",
       "      <td>Messagerie instantanée</td>\n",
       "      <td></td>\n",
       "      <td></td>\n",
       "      <td>None</td>\n",
       "    </tr>\n",
       "    <tr>\n",
       "      <th>995</th>\n",
       "      <td></td>\n",
       "      <td></td>\n",
       "      <td>Cecile Denayrouse &lt;cecile.denayrouse@tdg.ch&gt;</td>\n",
       "      <td>Messagerie instantanée,A moi</td>\n",
       "      <td></td>\n",
       "      <td></td>\n",
       "      <td>None</td>\n",
       "    </tr>\n",
       "    <tr>\n",
       "      <th>996</th>\n",
       "      <td></td>\n",
       "      <td></td>\n",
       "      <td>Cecile Denayrouse &lt;cecile.denayrouse@tdg.ch&gt;</td>\n",
       "      <td>Messagerie instantanée,A moi</td>\n",
       "      <td></td>\n",
       "      <td></td>\n",
       "      <td>None</td>\n",
       "    </tr>\n",
       "    <tr>\n",
       "      <th>997</th>\n",
       "      <td></td>\n",
       "      <td></td>\n",
       "      <td>Cecile Denayrouse &lt;cecile.denayrouse@tdg.ch&gt;</td>\n",
       "      <td>Messagerie instantanée,A moi</td>\n",
       "      <td></td>\n",
       "      <td></td>\n",
       "      <td>None</td>\n",
       "    </tr>\n",
       "    <tr>\n",
       "      <th>998</th>\n",
       "      <td></td>\n",
       "      <td></td>\n",
       "      <td>Cecile Denayrouse &lt;cecile.denayrouse@tdg.ch&gt;</td>\n",
       "      <td>Messagerie instantanée,A moi</td>\n",
       "      <td></td>\n",
       "      <td></td>\n",
       "      <td>None</td>\n",
       "    </tr>\n",
       "  </tbody>\n",
       "</table>\n",
       "</div>"
      ],
      "text/plain": [
       "    Cc Date                                          From  \\\n",
       "901                     \"Ronga, Paul\" <paul.ronga@tdg.ch>   \n",
       "995          Cecile Denayrouse <cecile.denayrouse@tdg.ch>   \n",
       "996          Cecile Denayrouse <cecile.denayrouse@tdg.ch>   \n",
       "997          Cecile Denayrouse <cecile.denayrouse@tdg.ch>   \n",
       "998          Cecile Denayrouse <cecile.denayrouse@tdg.ch>   \n",
       "\n",
       "                            Label Spam Subject    To  \n",
       "901        Messagerie instantanée               None  \n",
       "995  Messagerie instantanée,A moi               None  \n",
       "996  Messagerie instantanée,A moi               None  \n",
       "997  Messagerie instantanée,A moi               None  \n",
       "998  Messagerie instantanée,A moi               None  "
      ]
     },
     "execution_count": 62,
     "metadata": {},
     "output_type": "execute_result"
    }
   ],
   "source": [
    "df[df['Label'].str.contains('Messagerie instantanée')].head()"
   ]
  },
  {
   "cell_type": "code",
   "execution_count": 63,
   "metadata": {
    "collapsed": true
   },
   "outputs": [],
   "source": [
    "# La messagerie instantanée fonctionne différemment (pas de date). On l'enlève\n",
    "df = df[-df['Label'].str.contains('Messagerie instantanée')].copy()"
   ]
  },
  {
   "cell_type": "code",
   "execution_count": 64,
   "metadata": {
    "collapsed": true
   },
   "outputs": [],
   "source": [
    "# Avant la lecture des datetime, on ne garde que 2018\n",
    "df = df[df.Date.str.contains('2018')].copy()"
   ]
  },
  {
   "cell_type": "code",
   "execution_count": 65,
   "metadata": {
    "collapsed": true
   },
   "outputs": [],
   "source": [
    "# Lecture des datetime\n",
    "df['Timestamp'] = pd.to_datetime(df.Date, errors='coerce')"
   ]
  },
  {
   "cell_type": "code",
   "execution_count": 66,
   "metadata": {},
   "outputs": [
    {
     "data": {
      "text/html": [
       "<div>\n",
       "<style scoped>\n",
       "    .dataframe tbody tr th:only-of-type {\n",
       "        vertical-align: middle;\n",
       "    }\n",
       "\n",
       "    .dataframe tbody tr th {\n",
       "        vertical-align: top;\n",
       "    }\n",
       "\n",
       "    .dataframe thead th {\n",
       "        text-align: right;\n",
       "    }\n",
       "</style>\n",
       "<table border=\"1\" class=\"dataframe\">\n",
       "  <thead>\n",
       "    <tr style=\"text-align: right;\">\n",
       "      <th></th>\n",
       "      <th>Cc</th>\n",
       "      <th>Date</th>\n",
       "      <th>From</th>\n",
       "      <th>Label</th>\n",
       "      <th>Spam</th>\n",
       "      <th>Subject</th>\n",
       "      <th>To</th>\n",
       "      <th>Timestamp</th>\n",
       "    </tr>\n",
       "  </thead>\n",
       "  <tbody>\n",
       "    <tr>\n",
       "      <th>775</th>\n",
       "      <td></td>\n",
       "      <td>Fri, 02 Feb 2018 27:20:07 +0600</td>\n",
       "      <td>&lt;eskat@adm.unifi.it&gt;</td>\n",
       "      <td>Non lus,A moi,Spam</td>\n",
       "      <td></td>\n",
       "      <td>Es ist endlich HIER</td>\n",
       "      <td>&lt;paul.ronga@tdg.ch&gt;</td>\n",
       "      <td>NaT</td>\n",
       "    </tr>\n",
       "  </tbody>\n",
       "</table>\n",
       "</div>"
      ],
      "text/plain": [
       "    Cc                             Date                  From  \\\n",
       "775     Fri, 02 Feb 2018 27:20:07 +0600  <eskat@adm.unifi.it>   \n",
       "\n",
       "                  Label Spam              Subject                   To  \\\n",
       "775  Non lus,A moi,Spam       Es ist endlich HIER  <paul.ronga@tdg.ch>   \n",
       "\n",
       "    Timestamp  \n",
       "775       NaT  "
      ]
     },
     "execution_count": 66,
     "metadata": {},
     "output_type": "execute_result"
    }
   ],
   "source": [
    "# Quelles dates n’ont pas été lues? Un spam\n",
    "df[df['Timestamp'] != df['Timestamp']]"
   ]
  },
  {
   "cell_type": "code",
   "execution_count": 67,
   "metadata": {
    "collapsed": true
   },
   "outputs": [],
   "source": [
    "# On ne garde que les dates correctement lues\n",
    "df = df[df['Timestamp'] == df['Timestamp']].copy()"
   ]
  },
  {
   "cell_type": "code",
   "execution_count": 68,
   "metadata": {
    "collapsed": true
   },
   "outputs": [],
   "source": [
    "df.index = df['Timestamp']"
   ]
  },
  {
   "cell_type": "code",
   "execution_count": 69,
   "metadata": {},
   "outputs": [
    {
     "data": {
      "text/html": [
       "<div>\n",
       "<style scoped>\n",
       "    .dataframe tbody tr th:only-of-type {\n",
       "        vertical-align: middle;\n",
       "    }\n",
       "\n",
       "    .dataframe tbody tr th {\n",
       "        vertical-align: top;\n",
       "    }\n",
       "\n",
       "    .dataframe thead th {\n",
       "        text-align: right;\n",
       "    }\n",
       "</style>\n",
       "<table border=\"1\" class=\"dataframe\">\n",
       "  <thead>\n",
       "    <tr style=\"text-align: right;\">\n",
       "      <th></th>\n",
       "      <th>Cc</th>\n",
       "      <th>Date</th>\n",
       "      <th>From</th>\n",
       "      <th>Label</th>\n",
       "      <th>Spam</th>\n",
       "      <th>Subject</th>\n",
       "      <th>To</th>\n",
       "      <th>Timestamp</th>\n",
       "    </tr>\n",
       "    <tr>\n",
       "      <th>Timestamp</th>\n",
       "      <th></th>\n",
       "      <th></th>\n",
       "      <th></th>\n",
       "      <th></th>\n",
       "      <th></th>\n",
       "      <th></th>\n",
       "      <th></th>\n",
       "      <th></th>\n",
       "    </tr>\n",
       "  </thead>\n",
       "  <tbody>\n",
       "    <tr>\n",
       "      <th>2018-01-31</th>\n",
       "      <td>2983</td>\n",
       "      <td>2983</td>\n",
       "      <td>2983</td>\n",
       "      <td>2983</td>\n",
       "      <td>2983</td>\n",
       "      <td>2983</td>\n",
       "      <td>2983</td>\n",
       "      <td>2983</td>\n",
       "    </tr>\n",
       "    <tr>\n",
       "      <th>2018-02-28</th>\n",
       "      <td>2228</td>\n",
       "      <td>2228</td>\n",
       "      <td>2228</td>\n",
       "      <td>2228</td>\n",
       "      <td>2228</td>\n",
       "      <td>2228</td>\n",
       "      <td>2228</td>\n",
       "      <td>2228</td>\n",
       "    </tr>\n",
       "  </tbody>\n",
       "</table>\n",
       "</div>"
      ],
      "text/plain": [
       "              Cc  Date  From  Label  Spam  Subject    To  Timestamp\n",
       "Timestamp                                                          \n",
       "2018-01-31  2983  2983  2983   2983  2983     2983  2983       2983\n",
       "2018-02-28  2228  2228  2228   2228  2228     2228  2228       2228"
      ]
     },
     "execution_count": 69,
     "metadata": {},
     "output_type": "execute_result"
    }
   ],
   "source": [
    "# Combien d’e-mails reçus par mois? (NB: le drapeau \"Spam\"\n",
    "# ne contient pas tout le dossier spam, qui compte des centaines d'e-mails)\n",
    "df.resample('M').count()"
   ]
  },
  {
   "cell_type": "code",
   "execution_count": 70,
   "metadata": {},
   "outputs": [
    {
     "data": {
      "text/plain": [
       "(5211, 8)"
      ]
     },
     "execution_count": 70,
     "metadata": {},
     "output_type": "execute_result"
    }
   ],
   "source": [
    "# Nombre d'e-mails en 2018, au total\n",
    "df.shape"
   ]
  },
  {
   "cell_type": "code",
   "execution_count": 71,
   "metadata": {},
   "outputs": [],
   "source": [
    "# On enlève les sauts de lignes des expéditeurs, destinataires, objets\n",
    "def removeLineBreaks(value):\n",
    "    if not isinstance(value, str):\n",
    "        return value\n",
    "    return value.replace('\\r', '').replace('\\n', '')\n",
    "df['To'] = df['To'].apply(removeLineBreaks)\n",
    "df['From'] = df['From'].apply(removeLineBreaks)\n",
    "df['Subject'] = df['Subject'].apply(removeLineBreaks)"
   ]
  },
  {
   "cell_type": "code",
   "execution_count": 72,
   "metadata": {
    "collapsed": true
   },
   "outputs": [],
   "source": [
    "# Sauvegardarde du corpus 2018 complet\n",
    "df.to_csv('data/corpus_2018.csv')"
   ]
  },
  {
   "cell_type": "code",
   "execution_count": 73,
   "metadata": {},
   "outputs": [
    {
     "data": {
      "text/plain": [
       "(4543, 8)"
      ]
     },
     "execution_count": 73,
     "metadata": {},
     "output_type": "execute_result"
    }
   ],
   "source": [
    "# Nombre d'e-mails du 14 janvier au 14 février\n",
    "df['2018-01-14':'2018-02-14'].shape"
   ]
  },
  {
   "cell_type": "code",
   "execution_count": 74,
   "metadata": {
    "collapsed": true
   },
   "outputs": [],
   "source": [
    "dfx = df['2018-01-14':'2018-02-14'].copy()"
   ]
  },
  {
   "cell_type": "code",
   "execution_count": 75,
   "metadata": {
    "collapsed": true
   },
   "outputs": [],
   "source": [
    "sent = dfx.Label.str.contains('Messages envoyés')"
   ]
  },
  {
   "cell_type": "code",
   "execution_count": 76,
   "metadata": {},
   "outputs": [
    {
     "data": {
      "text/plain": [
       "((345, 8), (4198, 8))"
      ]
     },
     "execution_count": 76,
     "metadata": {},
     "output_type": "execute_result"
    }
   ],
   "source": [
    "# Taille des messages envoyés vs de tout le reste\n",
    "dfx[sent].shape, dfx[-sent].shape"
   ]
  },
  {
   "cell_type": "code",
   "execution_count": 77,
   "metadata": {},
   "outputs": [],
   "source": [
    "del dfx['Timestamp']"
   ]
  },
  {
   "cell_type": "code",
   "execution_count": 78,
   "metadata": {
    "collapsed": true
   },
   "outputs": [],
   "source": [
    "# On enregistre les messages reçus / envoyés du 14 janvier au 14 février\n",
    "dfx[-sent].to_csv('data/received.csv')\n",
    "dfx[sent].to_csv('data/sent.csv')"
   ]
  },
  {
   "cell_type": "code",
   "execution_count": null,
   "metadata": {
    "collapsed": true
   },
   "outputs": [],
   "source": []
  }
 ],
 "metadata": {
  "kernelspec": {
   "display_name": "Python 3",
   "language": "python",
   "name": "python3"
  },
  "language_info": {
   "codemirror_mode": {
    "name": "ipython",
    "version": 3
   },
   "file_extension": ".py",
   "mimetype": "text/x-python",
   "name": "python",
   "nbconvert_exporter": "python",
   "pygments_lexer": "ipython3",
   "version": "3.5.1"
  }
 },
 "nbformat": 4,
 "nbformat_minor": 2
}
